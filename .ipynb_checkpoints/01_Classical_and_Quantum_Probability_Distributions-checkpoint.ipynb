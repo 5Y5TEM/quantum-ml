{
  "cells": [
    {
      "metadata": {},
      "cell_type": "markdown",
      "source": "Probability theory is a cornerstone for machine learning. We can think of quantum states as probability distributions with certain properties that make them different from our classical notion of probabilities. Contrasting these properties is an easy and straightforward introduction to the most basic concepts we need in quantum computing.\n\nApart from probability theory, linear algebra is also critical for many learning protocols. As we will see, geometry and probabilities are intrinsically linked in quantum computing, but geometric notions are also familiar in dealing with classical probability distributions. This notebook first talks about classical probabilities and stochastic vectors, and introduces quantum states as a natural generalization.\n\nThroughout this course, we will assume finite probability distributions and finite dimensional spaces. This significantly simplifies notation and most quantum computers operate over finite dimensional spaces, so we do not lose much in generality.\n\n\n# Classical probability distributions\n\nLet us toss a biased coin. Without getting too technical, we can associate a random variable $X$ with the output: it takes the value 0 for heads and the value 1 for tails. We get heads with probability $P(X=0) = p_0$ and tails with $P(X=1) = p_1$ for each toss of the coin. In classical, Kolmogorovian probability theory, $p_i\\geq 0$ for all $i$, and the probabilities sum to one: $\\sum_i p_i = 1$. Let's sample this distribution"
    },
    {
      "metadata": {
        "ExecuteTime": {
          "end_time": "2018-11-19T19:47:57.736024Z",
          "start_time": "2018-11-19T19:47:57.668891Z"
        },
        "trusted": true
      },
      "cell_type": "code",
      "source": "import numpy as np\nn_samples = 100\np_1 = 0.2\nx_data = np.random.binomial(1, p_1, (n_samples,))\nprint(x_data)",
      "execution_count": 1,
      "outputs": [
        {
          "output_type": "stream",
          "text": "[0 0 0 0 0 1 0 0 1 0 0 0 1 0 0 0 0 0 0 0 0 0 0 0 0 0 1 0 0 1 0 0 1 0 0 1 1\n 0 1 0 0 1 0 0 0 0 0 0 0 1 1 1 0 0 0 0 0 0 0 1 1 1 0 0 0 0 0 0 0 0 0 0 0 0\n 0 0 0 0 0 0 1 0 0 0 1 0 0 0 1 0 0 0 0 0 0 0 0 1 0 0]\n",
          "name": "stdout"
        }
      ]
    },
    {
      "metadata": {},
      "cell_type": "markdown",
      "source": "We naturally expect that the empirically observed frequencies also sum to one:"
    },
    {
      "metadata": {
        "ExecuteTime": {
          "end_time": "2018-11-19T19:47:57.747061Z",
          "start_time": "2018-11-19T19:47:57.741685Z"
        },
        "trusted": true
      },
      "cell_type": "code",
      "source": "frequency_of_zeros, frequency_of_ones = 0, 0\nfor x in x_data:\n    if x:\n        frequency_of_ones += 1/n_samples\n    else:\n        frequency_of_zeros += 1/n_samples\nprint(frequency_of_ones+frequency_of_zeros)",
      "execution_count": 2,
      "outputs": [
        {
          "output_type": "stream",
          "text": "1.0000000000000004\n",
          "name": "stdout"
        }
      ]
    },
    {
      "metadata": {},
      "cell_type": "markdown",
      "source": "Since $p_0$ and $p_1$ must be non-negative, all possible probability distributions are restricted to the positive orthant. The normalization constraint puts every possible distribution on a straight line. This plot describes all possible probability distributions by biased and unbiased coins."
    },
    {
      "metadata": {
        "ExecuteTime": {
          "end_time": "2018-11-19T19:47:58.253755Z",
          "start_time": "2018-11-19T19:47:57.751818Z"
        },
        "trusted": true
      },
      "cell_type": "code",
      "source": "import matplotlib.pyplot as plt\n%matplotlib inline\np_0 = np.linspace(0, 1, 100)\np_1 = 1-p_0\nfig, ax = plt.subplots()\nax.set_xlim(-1.2, 1.2)\nax.set_ylim(-1.2, 1.2)\nax.spines['left'].set_position('center')\nax.spines['bottom'].set_position('center')\nax.spines['right'].set_color('none')\nax.spines['top'].set_color('none')\nax.set_xlabel(\"$p_0$\")\nax.xaxis.set_label_coords(1.0, 0.5)\nax.set_ylabel(\"$p_1$\")\nax.yaxis.set_label_coords(0.5, 1.0)\nplt.plot(p_0, p_1)",
      "execution_count": 3,
      "outputs": [
        {
          "output_type": "execute_result",
          "execution_count": 3,
          "data": {
            "text/plain": "[<matplotlib.lines.Line2D at 0x7f718035b358>]"
          },
          "metadata": {}
        },
        {
          "output_type": "display_data",
          "data": {
            "image/png": "[encoded data removed]",
            "text/plain": "<matplotlib.figure.Figure at 0x7f717fad8e10>"
          },
          "metadata": {}
        }
      ]
    },
    {
      "metadata": {},
      "cell_type": "markdown",
      "source": "We may also arrange the probabilities in a vector $\\vec{p} = \\begin{bmatrix} p_0 \\\\ p_1 \\end{bmatrix}$. Here, for notational convenience, we put an arrow above the variable representing the vector, to distinguish it from scalars. You will see that quantum states also have a standard notation that provides convenience, but goes much further in usefulness than the humble arrow here.\n\nA vector representing a probability distribution is called a *stochastic vector*. The normalization constraint essentially says that the norm of the vector is restricted to one in the $l_1$ norm. In other words, $||\\vec{p}||_1 = \\sum_i |p_i| = 1$. This would be the unit circle in the $l_1$ norm, but since $p_i\\geq 0$, we are restricted to a quarter of the unit circle, just as we plotted above. We can easily verify this with numpy's norm function:"
    },
    {
      "metadata": {
        "ExecuteTime": {
          "end_time": "2018-11-19T19:47:58.267761Z",
          "start_time": "2018-11-19T19:47:58.257885Z"
        },
        "trusted": true
      },
      "cell_type": "code",
      "source": "p = np.array([[0.8], [0.2]])\nnp.linalg.norm(p, ord=1)",
      "execution_count": 4,
      "outputs": [
        {
          "output_type": "execute_result",
          "execution_count": 4,
          "data": {
            "text/plain": "1.0"
          },
          "metadata": {}
        }
      ]
    },
    {
      "metadata": {},
      "cell_type": "markdown",
      "source": "We know that the probability of heads is just the first element in the $\\vec{p}$, but since it is a vector, we could use linear algebra to extract it. Geometrically, it means that we project the vector to the first axis. This projection is described by the matrix $\\begin{bmatrix} 1 & 0\\\\0 & 0\\end{bmatrix}$. The length in the $l_1$ norm gives the sought probability:"
    },
    {
      "metadata": {
        "ExecuteTime": {
          "end_time": "2018-11-19T19:47:58.296678Z",
          "start_time": "2018-11-19T19:47:58.272116Z"
        },
        "trusted": true
      },
      "cell_type": "code",
      "source": "Π_0 = np.array([[1, 0], [0, 0]])\nnp.linalg.norm(Π_0 @ p, ord=1)",
      "execution_count": 5,
      "outputs": [
        {
          "output_type": "execute_result",
          "execution_count": 5,
          "data": {
            "text/plain": "0.8"
          },
          "metadata": {}
        }
      ]
    },
    {
      "metadata": {},
      "cell_type": "markdown",
      "source": "We can repeat the process to get the probability of tails:"
    },
    {
      "metadata": {
        "ExecuteTime": {
          "end_time": "2018-11-19T19:47:58.312414Z",
          "start_time": "2018-11-19T19:47:58.301148Z"
        },
        "trusted": true
      },
      "cell_type": "code",
      "source": "Π_1 = np.array([[0, 0], [0, 1]])\nnp.linalg.norm(Π_1 @ p, ord=1)",
      "execution_count": 6,
      "outputs": [
        {
          "output_type": "execute_result",
          "execution_count": 6,
          "data": {
            "text/plain": "0.2"
          },
          "metadata": {}
        }
      ]
    },
    {
      "metadata": {},
      "cell_type": "markdown",
      "source": "The two projections play an equivalent role to the values 0 and 1 when we defined the probability distribution. In fact, we could define a new random variable called $\\Pi$ that can take the projections $\\Pi_0$ and $\\Pi_1$ as values and we would end up with an identical probability distribution. This may sound convoluted and unnatural, but the measurement in quantum mechanics is essentially a random variable that takes operator values, such as projections."
    },
    {
      "metadata": {},
      "cell_type": "markdown",
      "source": "What happens when we want to transform a probability distribution to another one? For instance, to change the bias of a coin, or to describe the transition of a Markov chain. Since the probability distribution is also a stochastic vector, we can apply a matrix on the vector, where the matrix has to fulfill certain conditions. A left *stochastic matrix* will map stochastic vectors to stochastic vectors when multiplied from the left: its columns add up to one. In other words, it maps probability distributions to probability distributions. For example, starting with a unbiased coin, the map $M$ will transform the distribution to a biased coin:"
    },
    {
      "metadata": {
        "ExecuteTime": {
          "end_time": "2018-11-19T19:47:58.328764Z",
          "start_time": "2018-11-19T19:47:58.316399Z"
        },
        "trusted": true
      },
      "cell_type": "code",
      "source": "p = np.array([[.5], [.5]])\nM = np.array([[0.7, 0.6], [0.3, 0.4]])\nnp.linalg.norm(M @ p, ord=1)",
      "execution_count": 7,
      "outputs": [
        {
          "output_type": "execute_result",
          "execution_count": 7,
          "data": {
            "text/plain": "0.9999999999999999"
          },
          "metadata": {}
        }
      ]
    },
    {
      "metadata": {},
      "cell_type": "markdown",
      "source": "One last concept that will come handy is entropy. A probability distribution's entropy is defined as $H(p) = - \\sum_i p_i \\log_2 p_i$. Let us plot it over all possible probability distributions of coin tosses:"
    },
    {
      "metadata": {
        "ExecuteTime": {
          "end_time": "2018-11-19T19:47:58.829415Z",
          "start_time": "2018-11-19T19:47:58.337314Z"
        },
        "trusted": true
      },
      "cell_type": "code",
      "source": "ϵ = 10e-10\np_0 = np.linspace(ϵ, 1-ϵ, 100)\np_1 = 1-p_0\nH = -(p_0*np.log2(p_0) + p_1*np.log2(p_1))\nfig, ax = plt.subplots()\nax.set_xlim(0, 1)\nax.set_ylim(0, -np.log2(0.5))\nax.set_xlabel(\"$p_0$\")\nax.set_ylabel(\"$H$\")\nplt.plot(p_0, H)\nplt.axvline(x=0.5, color='k', linestyle='--')",
      "execution_count": 8,
      "outputs": [
        {
          "output_type": "execute_result",
          "execution_count": 8,
          "data": {
            "text/plain": "<matplotlib.lines.Line2D at 0x7f9bcd1df7b8>"
          },
          "metadata": {}
        },
        {
          "output_type": "display_data",
          "data": {
            "image/png": "[encoded data removed]",
            "text/plain": "<matplotlib.figure.Figure at 0x7f9bcd1df588>"
          },
          "metadata": {}
        }
      ]
    },
    {
      "metadata": {},
      "cell_type": "markdown",
      "source": "Here we can see that the entropy is maximal for the unbiased coin. This is true in general: the entropy peaks for the uniform distribution. In a sense, this is the most unpredictable distribution: if we get heads with probability 0.2, betting tails is a great idea. On the other hand, if the coin is unbiased, then a deterministic strategy is of little help in winning. Entropy quantifies this notion of surprise and unpredictability."
    },
    {
      "metadata": {},
      "cell_type": "markdown",
      "source": "# Quantum states\n\nA classical coin is a two-level system: it is either heads or tails. At a first look a quantum state is a probability distribution, and the simplest case is a two-level state, which we call a qubit. Just like the way we can write the probability distribution as a column vector, we can write a quantum state as a column vector. For notational convenience that will become apparent later, we write the label of a quantum state in what is called a ket in the Dirac notation. So for instance, for some qubit, we can write \n\n$$\n|\\psi\\rangle = \\begin{bmatrix}\n    a_0 \\\\\n    a_1 \\\\\n\\end{bmatrix}.\n$$\n\nIn other words, a ket is just a column vector, exactly like the stochastic vector in the classical case. Instead of putting an arrow over the name of the variable to express that it is a vector, we use the ket to say that it is a column vector that represents a quantum state. There's more to this notation, as we will see.\n\nThe key difference to classical probability distributions and stochastic vectors is the normalization constraint. The square sum of their absolute values adds up to 1:\n\n$$\n\\sqrt{|a_0|^2+|a_1|^2}=1,\n$$\n\nwhere $a_0, a_1\\in \\mathbb{C}$. In other words, we are normalizing in the $l_2$ norm instead of the $l_1$ norm. Furthermore, we are no longer restricted to the positive orthant: the components of the quantum state vector, which we call *probability amplitudes*, are complex valued.\n\nLet us introduce two special qubits, corresponding to the canonical basis vectors in two dimensions: $|0\\rangle$ and $|1\\rangle$.\n\n$$\n|0\\rangle = \\begin{bmatrix}\n    1 \\\\\n    0 \\\\\n\\end{bmatrix}, \\,\\,\\, |1\\rangle = \\begin{bmatrix}\n    0 \\\\\n    1 \\\\\n\\end{bmatrix}.\n$$\n\nThis basis is also called the computational basis in quantum computing.\n\nWe can expand an arbitrary qubit state in this basis:\n\n$$\n|\\psi\\rangle = \\begin{bmatrix}\n    a_0 \\\\\n    a_1 \\\\\n\\end{bmatrix}=a_0\\begin{bmatrix}\n    1 \\\\\n    0 \\\\\n\\end{bmatrix} + \na_1\\begin{bmatrix}\n    0 \\\\\n    1 \\\\\n\\end{bmatrix}=\na_0|0\\rangle+a_1|1\\rangle.\n$$\n\nThis expansion in a basis is called a superposition. If we sample the qubit state, we obtain the outcome 0 with probability $|a_0|^2$, and 1 with probability $|a_1|^2$. This is known as the Born rule; you will learn more about measurements and this rule in a subsequent notebook.\n\nFor now, let's take a look at how we can simulate classical coin tossing on a quantum computer. Let's start with a completely biased case where we get heads with probability 1. This means that our qubit $|\\psi\\rangle=|0\\rangle$. We create a circuit of a single qubit and a single classical register where the results of the sampling (measurements) go."
    },
    {
      "metadata": {
        "trusted": true,
        "scrolled": true
      },
      "cell_type": "code",
      "source": "",
      "execution_count": 5,
      "outputs": [
        {
          "output_type": "stream",
          "text": "Processing /home/nbuser/.cache/pip/wheels/78/56/d2/194c8ea4c20e67c474027da76aa9df2ad5564218bc33073fbd/qiskit-0.14.0-cp35-none-any.whl\nCollecting qiskit-terra==0.11.0\n  Using cached https://files.pythonhosted.org/packages/60/4e/1cb88758bef7171588130a8d461455edab167209848efe82f2609b6d5d2f/qiskit_terra-0.11.0-cp35-cp35m-manylinux1_x86_64.whl\nCollecting qiskit-aer==0.3.4\n\u001b[?25l  Downloading https://files.pythonhosted.org/packages/8e/91/27fd488e378bb265b510f16618c4edb68479c73c6b24fb33a5ab76a1cd9d/qiskit_aer-0.3.4-cp35-cp35m-manylinux2010_x86_64.whl (18.2MB)\n\u001b[K     |████████████████████████████████| 18.2MB 26.8MB/s eta 0:00:01\n\u001b[?25hCollecting qiskit-aqua==0.6.1\n  Using cached https://files.pythonhosted.org/packages/47/2b/632c195974804d17dca01554caa013dd0c3023f4e4e6b91213c3381ce514/qiskit_aqua-0.6.1-py3-none-any.whl\nCollecting qiskit-ibmq-provider==0.4.4\n  Using cached https://files.pythonhosted.org/packages/7f/91/1236cd0da9552744aae173792c44a7a1611436f3a8156b62604aab2e67e5/qiskit_ibmq_provider-0.4.4-py3-none-any.whl\nCollecting qiskit-ignis==0.2.0\n  Using cached https://files.pythonhosted.org/packages/78/f2/f4f89c65d2c13f473092f7e800519836611ddeeaab8d4591a70555b26a37/qiskit_ignis-0.2.0-py3-none-any.whl\nCollecting jsonschema>=2.6\n\u001b[?25l  Downloading https://files.pythonhosted.org/packages/c5/8f/51e89ce52a085483359217bc72cdbf6e75ee595d5b1d4b5ade40c7e018b8/jsonschema-3.2.0-py2.py3-none-any.whl (56kB)\n\u001b[K     |████████████████████████████████| 61kB 777kB/s  eta 0:00:01\n\u001b[?25hCollecting sympy>=1.3\n  Using cached https://files.pythonhosted.org/packages/ce/5b/acc12e3c0d0be685601fc2b2d20ed18dc0bf461380e763afc9d0a548deb0/sympy-1.5.1-py2.py3-none-any.whl\nProcessing /home/nbuser/.cache/pip/wheels/52/41/b0/bf50409fe2b1d3b79afa3eed71b54b3e30fe5b695db2c7ba2e/psutil-5.6.7-cp35-cp35m-linux_x86_64.whl\nRequirement already satisfied: scipy>=1.0 in /home/nbuser/anaconda3_420/lib/python3.5/site-packages (from qiskit-terra==0.11.0->qiskit) (1.1.0)\nCollecting ply>=3.10\n  Using cached https://files.pythonhosted.org/packages/a3/58/35da89ee790598a0700ea49b2a66594140f44dec458c07e8e3d4979137fc/ply-3.11-py2.py3-none-any.whl\nCollecting marshmallow<4,>=3\n  Using cached https://files.pythonhosted.org/packages/6e/76/01224f14737627166b94eb3bf0e334372c014edca781e39db320ce977755/marshmallow-3.3.0-py2.py3-none-any.whl\nProcessing /home/nbuser/.cache/pip/wheels/68/f5/09/1dcfa8613b095bb326caadfb4b111d7fc945875948b75f5c14/marshmallow_polyfield-5.7-cp35-none-any.whl\nProcessing /home/nbuser/.cache/pip/wheels/59/b1/91/f02e76c732915c4015ab4010f3015469866c1eb9b14058d8e7/dill-0.3.1.1-cp35-none-any.whl\nProcessing /home/nbuser/.cache/pip/wheels/de/63/64/3699be2a9d0ccdb37c7f16329acf3863fd76eda58c39c737af/networkx-2.3-py2.py3-none-any.whl\nRequirement already satisfied: numpy>=1.13 in /home/nbuser/anaconda3_420/lib/python3.5/site-packages (from qiskit-terra==0.11.0->qiskit) (1.17.3)\nProcessing /home/nbuser/.cache/pip/wheels/9b/ef/71/204f676be3eae44c121c5b779077bd06f573d86cc6524aecc8/docplex-2.12.182-cp35-none-any.whl\nCollecting scikit-learn>=0.20.0\n  Using cached https://files.pythonhosted.org/packages/a8/01/a37d1ae4191ef09adc6385ae9f9306409e93370f7e85338152b608e7d6a3/scikit_learn-0.22.1-cp35-cp35m-manylinux1_x86_64.whl\nCollecting cvxopt\n  Using cached https://files.pythonhosted.org/packages/6f/ec/3a4928d155366a642c413411cbe2874c67e27ada225425661f8b59a80fdf/cvxopt-1.2.3-cp35-cp35m-manylinux1_x86_64.whl\nProcessing /home/nbuser/.cache/pip/wheels/7e/95/df/935f19af51d6ab63d416c103c0d6eae7048a8c2ecb00a1497f/fastdtw-0.3.4-cp35-none-any.whl\nRequirement already satisfied: h5py in /home/nbuser/anaconda3_420/lib/python3.5/site-packages (from qiskit-aqua==0.6.1->qiskit) (2.7.1)\nProcessing /home/nbuser/.cache/pip/wheels/bb/ba/15/fdd0deb104df3254912998150ba9245668db06b00af5912d1a/dlx-1.0.4-cp35-none-any.whl\nCollecting quandl\n  Using cached https://files.pythonhosted.org/packages/07/ab/8cd479fba8a9b197a43a0d55dd534b066fb8e5a0a04b5c0384cbc5d663aa/Quandl-3.5.0-py2.py3-none-any.whl\nCollecting pyscf; sys_platform != \"win32\"\n  Using cached https://files.pythonhosted.org/packages/1c/62/2f05c17382d2b3ad91ff48498cbd2820c521d2c3cc490662ab14e485702e/pyscf-1.7.0-cp35-cp35m-manylinux1_x86_64.whl\nRequirement already satisfied: setuptools>=40.1.0 in /home/nbuser/anaconda3_420/lib/python3.5/site-packages (from qiskit-aqua==0.6.1->qiskit) (41.6.0)\nCollecting nest-asyncio!=1.1.0,>=1.0.0\n  Using cached https://files.pythonhosted.org/packages/52/01/55100e0dda328f2181b719bddc5af0a24487de81038747d676d5be7ef879/nest_asyncio-1.2.1-py3-none-any.whl\nCollecting websockets<8,>=7\n  Using cached https://files.pythonhosted.org/packages/f5/e2/569b96cf3cd4e7e4aad036282c6fc61124de70ca976fb0cf86c2a89633a3/websockets-7.0-cp35-cp35m-manylinux1_x86_64.whl\nCollecting requests>=2.19\n  Using cached https://files.pythonhosted.org/packages/51/bd/23c926cd341ea6b7dd0b2a00aba99ae0f828be89d72b2190f27c11d4b7fb/requests-2.22.0-py2.py3-none-any.whl\nCollecting requests-ntlm>=1.1.0\n  Using cached https://files.pythonhosted.org/packages/03/4b/8b9a1afde8072c4d5710d9fa91433d504325821b038e00237dc8d6d833dc/requests_ntlm-1.1.0-py2.py3-none-any.whl\nCollecting importlib-metadata; python_version < \"3.8\"\n  Downloading https://files.pythonhosted.org/packages/e9/71/1a1e0ed0981bb6a67bce55a210f168126b7ebd2065958673797ea66489ca/importlib_metadata-1.3.0-py2.py3-none-any.whl\nRequirement already satisfied: six>=1.11.0 in /home/nbuser/anaconda3_420/lib/python3.5/site-packages (from jsonschema>=2.6->qiskit-terra==0.11.0->qiskit) (1.11.0)\nCollecting pyrsistent>=0.14.0\n\u001b[?25l  Downloading https://files.pythonhosted.org/packages/6c/6f/c1a2e8da80a0029f6b618d7e20e1a6f2a61dd04e2e54225309c2cc4268f7/pyrsistent-0.15.6.tar.gz (107kB)\n\u001b[K     |████████████████████████████████| 112kB 25.8MB/s eta 0:00:01\n\u001b[?25hRequirement already satisfied: attrs>=17.4.0 in /home/nbuser/anaconda3_420/lib/python3.5/site-packages (from jsonschema>=2.6->qiskit-terra==0.11.0->qiskit) (19.3.0)\nRequirement already satisfied: mpmath>=0.19 in /home/nbuser/anaconda3_420/lib/python3.5/site-packages (from sympy>=1.3->qiskit-terra==0.11.0->qiskit) (0.19)\nRequirement already satisfied: decorator>=4.3.0 in /home/nbuser/anaconda3_420/lib/python3.5/site-packages (from networkx<2.4,>=2.2; python_version == \"3.5\"->qiskit-terra==0.11.0->qiskit) (4.4.1)\nProcessing /home/nbuser/.cache/pip/wheels/4e/24/19/9b0e57545d7543ecec35c5faff78c058bf0c2506369c8b1d31/docloud-1.0.375-cp35-none-any.whl\nCollecting joblib>=0.11\n  Using cached https://files.pythonhosted.org/packages/28/5c/cf6a2b65a321c4a209efcdf64c2689efae2cb62661f8f6f4bb28547cf1bf/joblib-0.14.1-py2.py3-none-any.whl\nRequirement already satisfied: python-dateutil in /home/nbuser/anaconda3_420/lib/python3.5/site-packages (from quandl->qiskit-aqua==0.6.1->qiskit) (2.8.1)\nCollecting more-itertools\n  Using cached https://files.pythonhosted.org/packages/68/03/0604cec1ea13c9f063dd50f900d1a36160334dd3cfb01fd0e638f61b46ba/more_itertools-8.0.2-py3-none-any.whl\nRequirement already satisfied: pandas>=0.14 in /home/nbuser/anaconda3_420/lib/python3.5/site-packages (from quandl->qiskit-aqua==0.6.1->qiskit) (0.19.2)\nProcessing /home/nbuser/.cache/pip/wheels/9f/5a/d3/6fc3bf6516d2a3eb7e18f9f28b472110b59325f3f258fe9211/inflection-0.3.1-cp35-none-any.whl\nRequirement already satisfied: idna<2.9,>=2.5 in /home/nbuser/anaconda3_420/lib/python3.5/site-packages (from requests>=2.19->qiskit-ibmq-provider==0.4.4->qiskit) (2.8)\nRequirement already satisfied: certifi>=2017.4.17 in /home/nbuser/anaconda3_420/lib/python3.5/site-packages (from requests>=2.19->qiskit-ibmq-provider==0.4.4->qiskit) (2019.9.11)\nRequirement already satisfied: urllib3!=1.25.0,!=1.25.1,<1.26,>=1.21.1 in /home/nbuser/anaconda3_420/lib/python3.5/site-packages (from requests>=2.19->qiskit-ibmq-provider==0.4.4->qiskit) (1.25.6)\nCollecting chardet<3.1.0,>=3.0.2\n  Using cached https://files.pythonhosted.org/packages/bc/a9/01ffebfb562e4274b6487b4bb1ddec7ca55ec7510b22e4c51f14098443b8/chardet-3.0.4-py2.py3-none-any.whl\nCollecting ntlm-auth>=1.0.2\n  Using cached https://files.pythonhosted.org/packages/50/09/5e397eb18685b14fd8b209e26cdb4fa6451c82c1bcc651fef05fa73e7b27/ntlm_auth-1.4.0-py2.py3-none-any.whl\nRequirement already satisfied: cryptography>=1.3 in /home/nbuser/anaconda3_420/lib/python3.5/site-packages (from requests-ntlm>=1.1.0->qiskit-ibmq-provider==0.4.4->qiskit) (2.0.3)\n",
          "name": "stdout"
        },
        {
          "output_type": "stream",
          "text": "Collecting zipp>=0.5\n  Using cached https://files.pythonhosted.org/packages/74/3d/1ee25a26411ba0401b43c6376d2316a71addcc72ef8690b101b4ea56d76a/zipp-0.6.0-py2.py3-none-any.whl\nRequirement already satisfied: pytz>=2011k in /home/nbuser/anaconda3_420/lib/python3.5/site-packages (from pandas>=0.14->quandl->qiskit-aqua==0.6.1->qiskit) (2016.6.1)\nRequirement already satisfied: asn1crypto>=0.21.0 in /home/nbuser/anaconda3_420/lib/python3.5/site-packages (from cryptography>=1.3->requests-ntlm>=1.1.0->qiskit-ibmq-provider==0.4.4->qiskit) (0.24.0)\nRequirement already satisfied: cffi>=1.7 in /home/nbuser/anaconda3_420/lib/python3.5/site-packages (from cryptography>=1.3->requests-ntlm>=1.1.0->qiskit-ibmq-provider==0.4.4->qiskit) (1.7.0)\nRequirement already satisfied: pycparser in /home/nbuser/anaconda3_420/lib/python3.5/site-packages (from cffi>=1.7->cryptography>=1.3->requests-ntlm>=1.1.0->qiskit-ibmq-provider==0.4.4->qiskit) (2.14)\nBuilding wheels for collected packages: pyrsistent\n  Building wheel for pyrsistent (setup.py) ... \u001b[?25ldone\n\u001b[?25h  Created wheel for pyrsistent: filename=pyrsistent-0.15.6-cp35-cp35m-linux_x86_64.whl size=121857 sha256=a1562c69feab345d182f93a04361e1eb6379f572aadb14f3471b0798d1328284\n  Stored in directory: /home/nbuser/.cache/pip/wheels/83/89/d3/1712b9c33c9b9c0911b188a86aeff2a9a05e113f986cf79d92\nSuccessfully built pyrsistent\n\u001b[31mERROR: azure-storage-blob 12.0.0 has requirement cryptography>=2.1.4, but you'll have cryptography 2.0.3 which is incompatible.\u001b[0m\n\u001b[31mERROR: azure-storage-queue 12.0.0 has requirement cryptography>=2.1.4, but you'll have cryptography 2.0.3 which is incompatible.\u001b[0m\nInstalling collected packages: more-itertools, zipp, importlib-metadata, pyrsistent, jsonschema, sympy, psutil, ply, marshmallow, marshmallow-polyfield, dill, networkx, qiskit-terra, qiskit-aer, chardet, requests, docloud, docplex, joblib, scikit-learn, cvxopt, fastdtw, dlx, inflection, quandl, pyscf, qiskit-ignis, qiskit-aqua, nest-asyncio, websockets, ntlm-auth, requests-ntlm, qiskit-ibmq-provider, qiskit\n  Found existing installation: jsonschema 2.5.1\n    Uninstalling jsonschema-2.5.1:\n      Successfully uninstalled jsonschema-2.5.1\n  Found existing installation: sympy 1.0\n\u001b[31mERROR: Cannot uninstall 'sympy'. It is a distutils installed project and thus we cannot accurately determine which files belong to it which would lead to only a partial uninstall.\u001b[0m\n",
          "name": "stdout"
        }
      ]
    },
    {
      "metadata": {
        "trusted": true,
        "scrolled": true
      },
      "cell_type": "code",
      "source": "",
      "execution_count": 7,
      "outputs": [
        {
          "output_type": "error",
          "ename": "ImportError",
          "evalue": "No module named 'qiskit'",
          "traceback": [
            "\u001b[0;31m---------------------------------------------------------------------------\u001b[0m",
            "\u001b[0;31mImportError\u001b[0m                               Traceback (most recent call last)",
            "\u001b[0;32m<ipython-input-7-578b7f7e9727>\u001b[0m in \u001b[0;36m<module>\u001b[0;34m()\u001b[0m\n\u001b[0;32m----> 1\u001b[0;31m \u001b[0;32mimport\u001b[0m \u001b[0mqiskit\u001b[0m\u001b[0;34m\u001b[0m\u001b[0m\n\u001b[0m",
            "\u001b[0;31mImportError\u001b[0m: No module named 'qiskit'"
          ]
        }
      ]
    },
    {
      "metadata": {
        "ExecuteTime": {
          "end_time": "2018-11-19T19:47:59.56201Z",
          "start_time": "2018-11-19T19:47:58.831645Z"
        },
        "trusted": true
      },
      "cell_type": "code",
      "source": "from qiskit import QuantumCircuit, ClassicalRegister, QuantumRegister\nfrom qiskit import execute\nfrom qiskit import BasicAer\nfrom qiskit.tools.visualization import plot_histogram, plot_bloch_multivector\n\nimport numpy as np\nπ = np.pi\n\nbackend = BasicAer.get_backend('qasm_simulator')\n\nq = QuantumRegister(1)\nc = ClassicalRegister(1)\ncircuit = QuantumCircuit(q, c)",
      "execution_count": 6,
      "outputs": [
        {
          "output_type": "error",
          "ename": "ImportError",
          "evalue": "No module named 'qiskit'",
          "traceback": [
            "\u001b[0;31m---------------------------------------------------------------------------\u001b[0m",
            "\u001b[0;31mImportError\u001b[0m                               Traceback (most recent call last)",
            "\u001b[0;32m<ipython-input-6-cc8fbc27172d>\u001b[0m in \u001b[0;36m<module>\u001b[0;34m()\u001b[0m\n\u001b[0;32m----> 1\u001b[0;31m \u001b[0;32mfrom\u001b[0m \u001b[0mqiskit\u001b[0m \u001b[0;32mimport\u001b[0m \u001b[0mQuantumCircuit\u001b[0m\u001b[0;34m,\u001b[0m \u001b[0mClassicalRegister\u001b[0m\u001b[0;34m,\u001b[0m \u001b[0mQuantumRegister\u001b[0m\u001b[0;34m\u001b[0m\u001b[0m\n\u001b[0m\u001b[1;32m      2\u001b[0m \u001b[0;32mfrom\u001b[0m \u001b[0mqiskit\u001b[0m \u001b[0;32mimport\u001b[0m \u001b[0mexecute\u001b[0m\u001b[0;34m\u001b[0m\u001b[0m\n\u001b[1;32m      3\u001b[0m \u001b[0;32mfrom\u001b[0m \u001b[0mqiskit\u001b[0m \u001b[0;32mimport\u001b[0m \u001b[0mBasicAer\u001b[0m\u001b[0;34m\u001b[0m\u001b[0m\n\u001b[1;32m      4\u001b[0m \u001b[0;32mfrom\u001b[0m \u001b[0mqiskit\u001b[0m\u001b[0;34m.\u001b[0m\u001b[0mtools\u001b[0m\u001b[0;34m.\u001b[0m\u001b[0mvisualization\u001b[0m \u001b[0;32mimport\u001b[0m \u001b[0mplot_histogram\u001b[0m\u001b[0;34m,\u001b[0m \u001b[0mplot_bloch_multivector\u001b[0m\u001b[0;34m\u001b[0m\u001b[0m\n\u001b[1;32m      5\u001b[0m \u001b[0;34m\u001b[0m\u001b[0m\n",
            "\u001b[0;31mImportError\u001b[0m: No module named 'qiskit'"
          ]
        }
      ]
    },
    {
      "metadata": {},
      "cell_type": "markdown",
      "source": "Any qubit is initialized in $|0\\rangle$, so if we measure it right away, we should get our maximally biased coin."
    },
    {
      "metadata": {
        "ExecuteTime": {
          "end_time": "2018-11-19T19:47:59.567831Z",
          "start_time": "2018-11-19T19:47:59.563751Z"
        },
        "trusted": false
      },
      "cell_type": "code",
      "source": "circuit.measure(q, c)",
      "execution_count": null,
      "outputs": []
    },
    {
      "metadata": {},
      "cell_type": "markdown",
      "source": "Let us execute it a hundred times and study the result"
    },
    {
      "metadata": {
        "ExecuteTime": {
          "end_time": "2018-11-19T19:47:59.619731Z",
          "start_time": "2018-11-19T19:47:59.569854Z"
        },
        "trusted": false
      },
      "cell_type": "code",
      "source": "job = execute(circuit, backend, shots=100)",
      "execution_count": null,
      "outputs": []
    },
    {
      "metadata": {
        "ExecuteTime": {
          "end_time": "2018-11-19T19:47:59.632356Z",
          "start_time": "2018-11-19T19:47:59.62385Z"
        },
        "trusted": false
      },
      "cell_type": "code",
      "source": "result = job.result()\nresult.get_counts(circuit)",
      "execution_count": null,
      "outputs": []
    },
    {
      "metadata": {},
      "cell_type": "markdown",
      "source": "As expected, all of our outcomes are 0. To understand the possible quantum states, we use the Bloch sphere visualization. Since the probability amplitudes are complex and there are two of them for a single qubit, this would require a four-dimensional space. Now since the vectors are normalized, this removes a degree of freedom, allowing a three-dimensional representation with an appropriate embedding. This embedding is the Bloch sphere. It is slightly different than an ordinary sphere in three dimensions: we identify the north pole with the state $|0\\rangle$, and the south pole with $|1\\rangle$. In other words, two orthogonal vectors appear as if they were on the same axis -- the axis Z. The computational basis is just one basis: the axes X and Y represent two other bases. Any point on the surface of this sphere is a valid quantum state. This is also true the other way around: every pure quantum state is a point on the Bloch sphere. Here it 'pure' is an important technical term and it essentially means that the state is described by a ket (column vector). Later in the course we will see other states called mix states that are not described by a ket (you will see later that these are inside the Bloch sphere).\n\nTo make it less abstract, let's plot our $|0\\rangle$ on the Bloch sphere:"
    },
    {
      "metadata": {
        "ExecuteTime": {
          "end_time": "2018-11-19T19:48:00.00592Z",
          "start_time": "2018-11-19T19:47:59.635003Z"
        },
        "trusted": false
      },
      "cell_type": "code",
      "source": "backend_statevector = BasicAer.get_backend('statevector_simulator')\ncircuit = QuantumCircuit(q, c)\ncircuit.iden(q[0])\njob = execute(circuit, backend_statevector)\nplot_bloch_multivector(job.result().get_statevector(circuit))",
      "execution_count": null,
      "outputs": []
    },
    {
      "metadata": {
        "ExecuteTime": {
          "end_time": "2018-11-01T17:22:30.58069Z",
          "start_time": "2018-11-01T17:22:30.567499Z"
        }
      },
      "cell_type": "markdown",
      "source": "Compare this sphere with the straight line in the positive orthant that describes all classical probability distributions of coin tosses. You can already see that there is a much richer structure in the quantum probability space.\n\nLet us pick another point on the Bloch sphere, that is, another distribution. Let's transform the state $|0\\rangle$ to $\\frac{1}{\\sqrt{2}}(|0\\rangle + |1\\rangle)$. This corresponds to the unbiased coin, since we will get 0 with probability $|\\frac{1}{\\sqrt{2}}|^2=1/2$, and the other way around. There are many ways to do this transformation. We pick a rotation around the Y axis by $\\pi/2$, which corresponds to the matrix $\\frac{1}{\\sqrt{2}}\\begin{bmatrix} 1 & -1\\\\1 & 1\\end{bmatrix}$."
    },
    {
      "metadata": {
        "ExecuteTime": {
          "end_time": "2018-11-19T19:48:00.139079Z",
          "start_time": "2018-11-19T19:48:00.008309Z"
        },
        "trusted": false
      },
      "cell_type": "code",
      "source": "circuit = QuantumCircuit(q, c)\ncircuit.ry(π/2, q[0])\ncircuit.measure(q, c)\njob = execute(circuit, backend, shots=100)\nplot_histogram(job.result().get_counts(circuit))",
      "execution_count": null,
      "outputs": []
    },
    {
      "metadata": {},
      "cell_type": "markdown",
      "source": "To get an intuition why it is called a rotation around the Y axis, let's plot it on the Bloch sphere:"
    },
    {
      "metadata": {
        "ExecuteTime": {
          "end_time": "2018-11-19T19:48:00.377553Z",
          "start_time": "2018-11-19T19:48:00.141442Z"
        },
        "trusted": false
      },
      "cell_type": "code",
      "source": "circuit = QuantumCircuit(q, c)\ncircuit.ry(π/2, q[0])\njob = execute(circuit, backend_statevector)\nplot_bloch_multivector(job.result().get_statevector(circuit))",
      "execution_count": null,
      "outputs": []
    },
    {
      "metadata": {},
      "cell_type": "markdown",
      "source": "It does exactly what it says: it rotates from the north pole of the Bloch sphere.\n\nWhy is interesting to have complex probability amplitudes instead of non-negative real numbers? To get some insight, take a look what happens if we apply the same rotation to $|1\\rangle$. To achieve this, first we flip $|0\\rangle$ to $|1\\rangle$ by applying a NOT gate (denoted by X in quantum computing) and then the rotation."
    },
    {
      "metadata": {
        "ExecuteTime": {
          "end_time": "2018-11-19T19:48:00.622667Z",
          "start_time": "2018-11-19T19:48:00.379562Z"
        },
        "trusted": false
      },
      "cell_type": "code",
      "source": "circuit = QuantumCircuit(q, c)\ncircuit.x(q[0])\ncircuit.ry(π/2, q[0])\njob = execute(circuit, backend_statevector)\nplot_bloch_multivector(job.result().get_statevector(circuit))",
      "execution_count": null,
      "outputs": []
    },
    {
      "metadata": {},
      "cell_type": "markdown",
      "source": "You can verify that the result is $\\frac{1}{\\sqrt{2}}(-|0\\rangle + |1\\rangle)$. That is, the exact same state as before, except that the first term got a minus sign: it is a negative probability amplitude. Note that the difference cannot be observed from the statistics:"
    },
    {
      "metadata": {
        "ExecuteTime": {
          "end_time": "2018-11-19T19:48:00.747978Z",
          "start_time": "2018-11-19T19:48:00.624958Z"
        },
        "trusted": false
      },
      "cell_type": "code",
      "source": "circuit.measure(q, c)\njob = execute(circuit, backend, shots=100)\nplot_histogram(job.result().get_counts(circuit))",
      "execution_count": null,
      "outputs": []
    },
    {
      "metadata": {},
      "cell_type": "markdown",
      "source": "It still looks like an approximately unbiased coin. Yet, that negative sign -- or any complex value -- is what models *interference*, a critically important phenomenon where probability amplitudes can interact in a constructive or a destructive way. To see this, if we apply the rotation twice in a row on $|0\\rangle$, we get another deterministic output, $|1\\rangle$, although in between the two, it was some superposition. "
    },
    {
      "metadata": {
        "ExecuteTime": {
          "end_time": "2018-11-19T19:48:00.906121Z",
          "start_time": "2018-11-19T19:48:00.752622Z"
        },
        "trusted": false
      },
      "cell_type": "code",
      "source": "circuit = QuantumCircuit(q, c)\ncircuit.ry(π/2, q[0])\ncircuit.ry(π/2, q[0])\ncircuit.measure(q, c)\njob = execute(circuit, backend, shots=100)\nplot_histogram(job.result().get_counts(circuit))",
      "execution_count": null,
      "outputs": []
    },
    {
      "metadata": {},
      "cell_type": "markdown",
      "source": "Many quantum algorithms exploit interference, for instance, the seminal [Deutsch-Josza algorithm](https://en.wikipedia.org/wiki/Deutsch–Jozsa_algorithm), which is among the simplest to understand its significance."
    },
    {
      "metadata": {},
      "cell_type": "markdown",
      "source": "# More qubits and entanglement\n\nWe have already seen that quantum states are probability distributions normed to 1 in the $l_2$ norm and we got a first peek at interference. If we introduce more qubits, we see another crucial quantum effect emerging. To do that, we first have to define how we write down the column vector for describing two qubits. We use a tensor product, which, in the case of qubits, is equivalent to the Kronecker product. Given two qubits, $|\\psi\\rangle=\\begin{bmatrix}a_0\\\\a_1\\end{bmatrix}$ and $|\\psi'\\rangle=\\begin{bmatrix}b_0\\\\b_1\\end{bmatrix}$, their product is $|\\psi\\rangle\\otimes|\\psi'\\rangle=\\begin{bmatrix}a_0b_0\\\\ a_0b_1\\\\ a_1b_0\\\\ a_1b_1\\end{bmatrix}$. Imagine that you have two registers $q_0$ and $q_1$, each can hold a qubit, and both qubits are in the state $|0\\rangle$. Then this composite state would be described by according to this product rule as follows:"
    },
    {
      "metadata": {
        "ExecuteTime": {
          "end_time": "2018-11-19T19:48:00.928395Z",
          "start_time": "2018-11-19T19:48:00.913259Z"
        },
        "trusted": false
      },
      "cell_type": "code",
      "source": "q0 = np.array([[1], [0]])\nq1 = np.array([[1], [0]])\nnp.kron(q0, q1)",
      "execution_count": null,
      "outputs": []
    },
    {
      "metadata": {},
      "cell_type": "markdown",
      "source": "This is the $|0\\rangle\\otimes|0\\rangle$ state, which we often abbreviate as $|00\\rangle$. The states $|01\\rangle$, $|10\\rangle$, and $|11\\rangle$ are defined analogously, and the four of them give the canonical basis of the four dimensional complex space, $\\mathbb{C}^2\\otimes\\mathbb{C}^2$.\n\nNow comes the interesting and counter-intuitive part. In machine learning, we also work with high-dimensional spaces, but we never construct it as a tensor product: it is typically $\\mathbb{R}^d$ for some dimension $d$. The interesting part of writing the high-dimensional space as a tensor product is that not all vectors in can be written as a product of vectors in the component space.\n\nTake the following state: $|\\phi^+\\rangle = \\frac{1}{\\sqrt{2}}(|00\\rangle+|11\\rangle)$. This vector is clearly in $\\mathbb{C}^2\\otimes\\mathbb{C}^2$, since it is a linear combination of two of the basis vector in this space. Yet, it cannot be written as $|\\psi\\rangle\\otimes|\\psi'\\rangle$ for some $|\\psi\\rangle$, $|\\psi'\\rangle\\in\\mathbb{C}^2$.\n\nTo see this, assume that it can be written in this form. Then\n\n$$\n|\\phi^+\\rangle = \\frac{1}{\\sqrt{2}}(|00\\rangle+|11\\rangle) = \\begin{bmatrix}a_0b_0\\\\ a_0b_1\\\\ a_1b_0\\\\ a_1b_1\\end{bmatrix} = a_0b_0|00\\rangle + a_0b_1|01\\rangle + a_1b_0|10\\rangle + a_1b_1|11\\rangle.\n$$\n\n$|01\\rangle$ and $|10\\rangle$ do not appear on the left-hand side, so their coefficients must be zero: $a_1b_0=0$ and $a_0b_1=0$. This leads to a contradiction, since $a_1$ cannot be zero ($a_1b_1=1$), so $b_0$ must be zero, but $a_0b_0=1$. Therefore $|\\phi^+\\rangle$ cannot be written as a product.\n\nStates that cannot be written as a product are called entangled states. This is the mathematical form of describing a phenomenon of strong correlations between random variables that exceed what is possible classically. Entanglement plays a central role in countless quantum algorithms. A simple example is [quantum teleportation](https://en.wikipedia.org/wiki/Quantum_teleportation). We will also see its applications in quantum machine learning protocols.\n\nWe will have a closer look at entanglement in a subsequent notebook on measurements, but as a teaser, let us look at the measurement statistics of the $|\\phi^+\\rangle$ state. The explanation of the circuit preparing it will also come in a subsequent notebook."
    },
    {
      "metadata": {
        "ExecuteTime": {
          "end_time": "2018-11-19T19:48:01.146195Z",
          "start_time": "2018-11-19T19:48:00.930859Z"
        },
        "trusted": false
      },
      "cell_type": "code",
      "source": "q = QuantumRegister(2)\nc = ClassicalRegister(2)\ncircuit = QuantumCircuit(q, c)\ncircuit.h(q[0])\ncircuit.cx(q[0], q[1])\ncircuit.measure(q, c)\njob = execute(circuit, backend, shots=100)\nplot_histogram(job.result().get_counts(circuit))",
      "execution_count": null,
      "outputs": []
    },
    {
      "metadata": {},
      "cell_type": "markdown",
      "source": "Notice that 01 or 10 never appear in the measurement statistics."
    },
    {
      "metadata": {},
      "cell_type": "markdown",
      "source": "# Further reading\n\nChapter 9 in Quantum Computing since Democritus by Scott Aaronson describes a similar approach to understanding quantum states -- in fact, the interference example was lifted from there."
    }
  ],
  "metadata": {
    "kernelspec": {
      "name": "python3",
      "display_name": "Python 3",
      "language": "python"
    },
    "language_info": {
      "mimetype": "text/x-python",
      "nbconvert_exporter": "python",
      "name": "python",
      "pygments_lexer": "ipython3",
      "version": "3.5.4",
      "file_extension": ".py",
      "codemirror_mode": {
        "version": 3,
        "name": "ipython"
      }
    }
  },
  "nbformat": 4,
  "nbformat_minor": 2
}