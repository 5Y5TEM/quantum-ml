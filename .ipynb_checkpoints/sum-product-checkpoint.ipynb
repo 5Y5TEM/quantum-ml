{
  "cells": [
    {
      "metadata": {
        "trusted": true,
        "scrolled": true
      },
      "cell_type": "code",
      "source": "! pip install spflow\n! pip install tensorflow",
      "execution_count": 1,
      "outputs": [
        {
          "output_type": "stream",
          "text": "Requirement already satisfied: spflow in /home/nbuser/anaconda3_501/lib/python3.6/site-packages (0.0.39)\nRequirement already satisfied: statsmodels in /home/nbuser/anaconda3_501/lib/python3.6/site-packages (from spflow) (0.9.0)\nRequirement already satisfied: pydot in /home/nbuser/anaconda3_501/lib/python3.6/site-packages (from spflow) (1.4.1)\nRequirement already satisfied: scipy==1.2 in /home/nbuser/anaconda3_501/lib/python3.6/site-packages (from spflow) (1.2.0)\nRequirement already satisfied: networkx in /home/nbuser/anaconda3_501/lib/python3.6/site-packages (from spflow) (2.2)\nRequirement already satisfied: sklearn in /home/nbuser/anaconda3_501/lib/python3.6/site-packages (from spflow) (0.0)\nRequirement already satisfied: joblib in /home/nbuser/anaconda3_501/lib/python3.6/site-packages (from spflow) (0.14.0)\nRequirement already satisfied: lark-parser in /home/nbuser/anaconda3_501/lib/python3.6/site-packages (from spflow) (0.7.8)\nRequirement already satisfied: PyQt5 in /home/nbuser/anaconda3_501/lib/python3.6/site-packages (from spflow) (5.14.1)\nRequirement already satisfied: arff in /home/nbuser/anaconda3_501/lib/python3.6/site-packages (from spflow) (0.9)\nRequirement already satisfied: pytest in /home/nbuser/anaconda3_501/lib/python3.6/site-packages (from spflow) (3.8.2)\nRequirement already satisfied: ete3>=3.1.1 in /home/nbuser/anaconda3_501/lib/python3.6/site-packages (from spflow) (3.1.1)\nRequirement already satisfied: numpy in /home/nbuser/anaconda3_501/lib/python3.6/site-packages (from spflow) (1.16.2)\nRequirement already satisfied: matplotlib in /home/nbuser/anaconda3_501/lib/python3.6/site-packages (from spflow) (3.0.0)\nRequirement already satisfied: sympy in /home/nbuser/anaconda3_501/lib/python3.6/site-packages (from spflow) (1.3)\nRequirement already satisfied: tqdm in /home/nbuser/anaconda3_501/lib/python3.6/site-packages (from spflow) (4.26.0)\nRequirement already satisfied: pyparsing>=2.1.4 in /home/nbuser/anaconda3_501/lib/python3.6/site-packages (from pydot->spflow) (2.3.0)\nRequirement already satisfied: decorator>=4.3.0 in /home/nbuser/anaconda3_501/lib/python3.6/site-packages (from networkx->spflow) (4.3.0)\nRequirement already satisfied: scikit-learn in /home/nbuser/anaconda3_501/lib/python3.6/site-packages (from sklearn->spflow) (0.20.3)\nRequirement already satisfied: PyQt5-sip<13,>=12.7 in /home/nbuser/anaconda3_501/lib/python3.6/site-packages (from PyQt5->spflow) (12.7.0)\nRequirement already satisfied: py>=1.5.0 in /home/nbuser/anaconda3_501/lib/python3.6/site-packages (from pytest->spflow) (1.6.0)\nRequirement already satisfied: six>=1.10.0 in /home/nbuser/anaconda3_501/lib/python3.6/site-packages (from pytest->spflow) (1.11.0)\nRequirement already satisfied: setuptools in /home/nbuser/anaconda3_501/lib/python3.6/site-packages (from pytest->spflow) (42.0.2)\nRequirement already satisfied: attrs>=17.4.0 in /home/nbuser/anaconda3_501/lib/python3.6/site-packages (from pytest->spflow) (18.2.0)\nRequirement already satisfied: more-itertools>=4.0.0 in /home/nbuser/anaconda3_501/lib/python3.6/site-packages (from pytest->spflow) (4.3.0)\nRequirement already satisfied: atomicwrites>=1.0 in /home/nbuser/anaconda3_501/lib/python3.6/site-packages (from pytest->spflow) (1.2.1)\nRequirement already satisfied: pluggy>=0.7 in /home/nbuser/anaconda3_501/lib/python3.6/site-packages (from pytest->spflow) (0.7.1)\nRequirement already satisfied: cycler>=0.10 in /home/nbuser/anaconda3_501/lib/python3.6/site-packages (from matplotlib->spflow) (0.10.0)\nRequirement already satisfied: kiwisolver>=1.0.1 in /home/nbuser/anaconda3_501/lib/python3.6/site-packages (from matplotlib->spflow) (1.0.1)\nRequirement already satisfied: python-dateutil>=2.1 in /home/nbuser/anaconda3_501/lib/python3.6/site-packages (from matplotlib->spflow) (2.8.1)\nRequirement already satisfied: tensorflow in /home/nbuser/anaconda3_501/lib/python3.6/site-packages (2.0.0b1)\nRequirement already satisfied: numpy<2.0,>=1.14.5 in /home/nbuser/anaconda3_501/lib/python3.6/site-packages (from tensorflow) (1.16.2)\nRequirement already satisfied: grpcio>=1.8.6 in /home/nbuser/anaconda3_501/lib/python3.6/site-packages (from tensorflow) (1.25.0)\nRequirement already satisfied: keras-preprocessing>=1.0.5 in /home/nbuser/anaconda3_501/lib/python3.6/site-packages (from tensorflow) (1.1.0)\nRequirement already satisfied: wheel>=0.26 in /home/nbuser/anaconda3_501/lib/python3.6/site-packages (from tensorflow) (0.30.0)\nRequirement already satisfied: tf-estimator-nightly<1.14.0.dev2019060502,>=1.14.0.dev2019060501 in /home/nbuser/anaconda3_501/lib/python3.6/site-packages (from tensorflow) (1.14.0.dev2019060501)\nRequirement already satisfied: gast>=0.2.0 in /home/nbuser/anaconda3_501/lib/python3.6/site-packages (from tensorflow) (0.3.2)\nRequirement already satisfied: astor>=0.6.0 in /home/nbuser/anaconda3_501/lib/python3.6/site-packages (from tensorflow) (0.8.0)\nRequirement already satisfied: keras-applications>=1.0.6 in /home/nbuser/anaconda3_501/lib/python3.6/site-packages (from tensorflow) (1.0.8)\nRequirement already satisfied: protobuf>=3.6.1 in /home/nbuser/anaconda3_501/lib/python3.6/site-packages (from tensorflow) (3.11.1)\nRequirement already satisfied: absl-py>=0.7.0 in /home/nbuser/anaconda3_501/lib/python3.6/site-packages (from tensorflow) (0.8.1)\nRequirement already satisfied: termcolor>=1.1.0 in /home/nbuser/anaconda3_501/lib/python3.6/site-packages (from tensorflow) (1.1.0)\nRequirement already satisfied: six>=1.10.0 in /home/nbuser/anaconda3_501/lib/python3.6/site-packages (from tensorflow) (1.11.0)\nRequirement already satisfied: tb-nightly<1.14.0a20190604,>=1.14.0a20190603 in /home/nbuser/anaconda3_501/lib/python3.6/site-packages (from tensorflow) (1.14.0a20190603)\nRequirement already satisfied: google-pasta>=0.1.6 in /home/nbuser/anaconda3_501/lib/python3.6/site-packages (from tensorflow) (0.1.8)\nRequirement already satisfied: wrapt>=1.11.1 in /home/nbuser/anaconda3_501/lib/python3.6/site-packages (from tensorflow) (1.11.2)\nRequirement already satisfied: h5py in /home/nbuser/anaconda3_501/lib/python3.6/site-packages (from keras-applications>=1.0.6->tensorflow) (2.8.0)\nRequirement already satisfied: setuptools in /home/nbuser/anaconda3_501/lib/python3.6/site-packages (from protobuf>=3.6.1->tensorflow) (42.0.2)\nRequirement already satisfied: markdown>=2.6.8 in /home/nbuser/anaconda3_501/lib/python3.6/site-packages (from tb-nightly<1.14.0a20190604,>=1.14.0a20190603->tensorflow) (3.0.1)\nRequirement already satisfied: werkzeug>=0.11.15 in /home/nbuser/anaconda3_501/lib/python3.6/site-packages (from tb-nightly<1.14.0a20190604,>=1.14.0a20190603->tensorflow) (0.14.1)\n",
          "name": "stdout"
        }
      ]
    },
    {
      "metadata": {
        "trusted": true
      },
      "cell_type": "code",
      "source": "import numpy as np \n\nnp.random.seed(123)\ntrain_data = np.c_[np.r_[np.random.normal(5, 1, (5, 2)), np.random.normal(10, 1, (5, 2))],\n                   np.r_[np.zeros((5, 1)), np.ones((5, 1))]]",
      "execution_count": 9,
      "outputs": []
    },
    {
      "metadata": {
        "trusted": true
      },
      "cell_type": "code",
      "source": "labels = np.r_[np.zeros((3,1)), np.ones((3,1)), np.full((3,1),2)]\ndata = np.r_[np.random.normal(5,1,(3,2)), np.random.normal(7,1,(3,2)),np.random.normal(10,1,(3,2))]\n\na = np.c_[data,labels]\n\nprint(a)\nprint(a.shape)\nprint(len(a))",
      "execution_count": 20,
      "outputs": [
        {
          "output_type": "stream",
          "text": "[[ 5.89070639  6.75488618  0.        ]\n [ 6.49564414  6.06939267  0.        ]\n [ 4.22729129  5.79486267  0.        ]\n [ 7.31427199  5.67373454  1.        ]\n [ 8.41729905  7.80723653  1.        ]\n [ 7.04549008  6.76690794  1.        ]\n [ 8.80169886 10.19952407  2.        ]\n [10.46843912  9.16884502  2.        ]\n [11.16220405  8.90279695  2.        ]]\n(9, 3)\n9\n",
          "name": "stdout"
        }
      ]
    },
    {
      "metadata": {
        "trusted": true
      },
      "cell_type": "code",
      "source": "print(train_data)",
      "execution_count": null,
      "outputs": []
    },
    {
      "metadata": {
        "trusted": true
      },
      "cell_type": "code",
      "source": "from spn.algorithms.LearningWrappers import learn_parametric, learn_classifier\nfrom spn.structure.leaves.parametric.Parametric import Categorical, Gaussian\nfrom spn.structure.Base import Context\nspn_classification = learn_classifier(train_data,\n                       Context(parametric_types=[Gaussian, Gaussian, Categorical]).add_domains(train_data),\n                       learn_parametric, 2)",
      "execution_count": 11,
      "outputs": [
        {
          "output_type": "stream",
          "text": "/home/nbuser/anaconda3_501/lib/python3.6/site-packages/matplotlib/font_manager.py:229: UserWarning: Matplotlib is building the font cache using fc-list. This may take a moment.\n  'Matplotlib is building the font cache using fc-list. '\n",
          "name": "stderr"
        }
      ]
    },
    {
      "metadata": {
        "trusted": true
      },
      "cell_type": "code",
      "source": "from spn.algorithms.LearningWrappers import learn_parametric, learn_classifier\nfrom spn.structure.leaves.parametric.Parametric import Categorical, Gaussian\nfrom spn.structure.Base import Context\n\n\ntypes = list() \ntypes.append(Gaussian)\ntypes.append(Gaussian)\ntypes.append(Categorical)\n#print(types)\n\nspn_classification = learn_classifier(train_data,\n                       Context(parametric_types=types).add_domains(train_data),\n                       learn_parametric, 2)",
      "execution_count": 16,
      "outputs": []
    },
    {
      "metadata": {
        "trusted": true
      },
      "cell_type": "code",
      "source": "spn_a = learn_classifier(a,\n                       Context(parametric_types=[Gaussian, Gaussian, Categorical]).add_domains(a),\n                       learn_parametric, 2)",
      "execution_count": null,
      "outputs": []
    },
    {
      "metadata": {
        "trusted": true
      },
      "cell_type": "code",
      "source": "from spn.io.Graphics import plot_spn\n\nplot_spn(spn_a, 'basicspn.png')",
      "execution_count": null,
      "outputs": []
    },
    {
      "metadata": {
        "trusted": true,
        "scrolled": true
      },
      "cell_type": "code",
      "source": "test_a = np.array([3.0, 4.0, np.nan, 7.0,7.0, np.nan, 12.0, 18.0, np.nan]).reshape(-1, 3)\n\nprint(test_a)",
      "execution_count": null,
      "outputs": []
    },
    {
      "metadata": {
        "trusted": true
      },
      "cell_type": "code",
      "source": "import math\nmean = 10\nstandard_dev = 2\nx = 4\nprint (0.5 * (1 + math.erf((x - mean)/math.sqrt(2 * standard_dev**2))))",
      "execution_count": null,
      "outputs": []
    },
    {
      "metadata": {
        "trusted": true
      },
      "cell_type": "code",
      "source": "from scipy.stats import multivariate_normal\nimport numpy as np\nx = np.array([[3,4], [4,4]])\nmultivariate_normal.pdf(x, mean=[10, 10], cov=[2, 2])",
      "execution_count": null,
      "outputs": []
    },
    {
      "metadata": {
        "trusted": true
      },
      "cell_type": "code",
      "source": "from spn.algorithms.MPE import mpe\nprint(mpe(spn_a, test_a))",
      "execution_count": null,
      "outputs": []
    },
    {
      "metadata": {
        "trusted": true
      },
      "cell_type": "code",
      "source": "from spn.io.Graphics import plot_spn\nplot_spn(spn_classification, 'basicspn.png')",
      "execution_count": 18,
      "outputs": [
        {
          "output_type": "stream",
          "text": "/home/nbuser/anaconda3_501/lib/python3.6/site-packages/networkx/drawing/nx_pylab.py:611: MatplotlibDeprecationWarning: isinstance(..., numbers.Number)\n  if cb.is_numlike(alpha):\n",
          "name": "stderr"
        },
        {
          "output_type": "display_data",
          "data": {
            "image/png": "[encoded data removed]",
            "text/plain": "<Figure size 432x288 with 1 Axes>"
          },
          "metadata": {}
        }
      ]
    },
    {
      "metadata": {
        "trusted": true
      },
      "cell_type": "code",
      "source": "",
      "execution_count": null,
      "outputs": []
    },
    {
      "metadata": {
        "trusted": true
      },
      "cell_type": "code",
      "source": "",
      "execution_count": null,
      "outputs": []
    },
    {
      "metadata": {
        "trusted": true
      },
      "cell_type": "code",
      "source": "",
      "execution_count": null,
      "outputs": []
    },
    {
      "metadata": {
        "trusted": true
      },
      "cell_type": "code",
      "source": "",
      "execution_count": null,
      "outputs": []
    },
    {
      "metadata": {
        "trusted": true
      },
      "cell_type": "code",
      "source": "",
      "execution_count": null,
      "outputs": []
    },
    {
      "metadata": {
        "trusted": true
      },
      "cell_type": "code",
      "source": "",
      "execution_count": null,
      "outputs": []
    },
    {
      "metadata": {
        "trusted": true
      },
      "cell_type": "code",
      "source": "",
      "execution_count": null,
      "outputs": []
    },
    {
      "metadata": {
        "trusted": true
      },
      "cell_type": "code",
      "source": "",
      "execution_count": null,
      "outputs": []
    },
    {
      "metadata": {
        "trusted": true
      },
      "cell_type": "code",
      "source": "",
      "execution_count": null,
      "outputs": []
    },
    {
      "metadata": {
        "trusted": true
      },
      "cell_type": "code",
      "source": "",
      "execution_count": null,
      "outputs": []
    },
    {
      "metadata": {
        "trusted": true
      },
      "cell_type": "code",
      "source": "",
      "execution_count": null,
      "outputs": []
    },
    {
      "metadata": {
        "trusted": true
      },
      "cell_type": "code",
      "source": "",
      "execution_count": null,
      "outputs": []
    },
    {
      "metadata": {
        "trusted": true
      },
      "cell_type": "code",
      "source": "",
      "execution_count": null,
      "outputs": []
    }
  ],
  "metadata": {
    "kernelspec": {
      "name": "python36",
      "display_name": "Python 3.6",
      "language": "python"
    },
    "language_info": {
      "mimetype": "text/x-python",
      "nbconvert_exporter": "python",
      "name": "python",
      "pygments_lexer": "ipython3",
      "version": "3.6.6",
      "file_extension": ".py",
      "codemirror_mode": {
        "version": 3,
        "name": "ipython"
      }
    }
  },
  "nbformat": 4,
  "nbformat_minor": 2
}